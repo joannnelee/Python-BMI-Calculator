{
 "cells": [
  {
   "cell_type": "markdown",
   "id": "253fccef-e40e-402b-bb08-339e423f5ef9",
   "metadata": {},
   "source": [
    "# BMI Calculator"
   ]
  },
  {
   "cell_type": "code",
   "execution_count": 54,
   "id": "7c7d1630-bd80-4f48-a6f7-ed74995a7fde",
   "metadata": {},
   "outputs": [
    {
     "name": "stdin",
     "output_type": "stream",
     "text": [
      "Enter your name:  alex\n",
      "Enter your weight in pounds:  170\n",
      "Enter your height in inches:  69\n"
     ]
    },
    {
     "name": "stdout",
     "output_type": "stream",
     "text": [
      "25.101869355177485\n",
      "alex,you are over weight. You need to exercise more and stop sitting and writing so many python tutorials.\n"
     ]
    }
   ],
   "source": [
    "name = input(\"Enter your name: \")\n",
    "\n",
    "weight = int(input(\"Enter your weight in pounds: \"))\n",
    "\n",
    "height = int(input(\"Enter your height in inches: \"))\n",
    "\n",
    "BMI = (weight * 703) / (height * height)\n",
    "\n",
    "print(BMI)\n",
    "\n",
    "if BMI > 0:\n",
    "    if(BMI<18.5):\n",
    "        print(name + \", you are underweight.\")\n",
    "    elif(BMI<=24.9):\n",
    "        print(name + \",you are normal weight.\")\n",
    "    elif(BMI<=29.9):\n",
    "        print(name + \",you are over weight. You need to exercise more and stop sitting and writing so many python tutorials.\")\n",
    "    elif(BMI<=34.9):\n",
    "        print(name + \",you are obese.\")\n",
    "    elif(BMI<=39.9):\n",
    "        print(name + \",you are severely obese.\")\n",
    "    else:\n",
    "        print(name + \"you are morbidly obese\")\n",
    "else:\n",
    "    print(\"Enter valid input\")"
   ]
  },
  {
   "cell_type": "code",
   "execution_count": null,
   "id": "39db50d3-f41c-42f1-9d14-8520aa93fe8f",
   "metadata": {},
   "outputs": [],
   "source": [
    "#BMI = (weight in pounds x 703) / (height in inches x height in inches)"
   ]
  },
  {
   "cell_type": "code",
   "execution_count": null,
   "id": "a054fb15-e15a-4405-8806-b4031ddaa54b",
   "metadata": {},
   "outputs": [],
   "source": [
    "print(weight)"
   ]
  },
  {
   "cell_type": "code",
   "execution_count": null,
   "id": "315561b9-8abf-48ca-8b77-80e958e1d50f",
   "metadata": {},
   "outputs": [],
   "source": [
    "under 18.5 -> underweight\n",
    "18.5 - 24.9 -> nomral weight\n",
    "25 - 29.9 -> overweight\n",
    "30 - 34.9 -> obese\n",
    "35 _ 39.9 -> severely obese\n",
    "40 and over -> morbidly obese "
   ]
  },
  {
   "cell_type": "code",
   "execution_count": 50,
   "id": "f27487d0-2318-4049-af69-c9735a9ddc91",
   "metadata": {},
   "outputs": [
    {
     "name": "stdout",
     "output_type": "stream",
     "text": [
      "alex,you are over weight.\n"
     ]
    }
   ],
   "source": [
    "if BMI > 0:\n",
    "    if(BMI<18.5):\n",
    "        print(name + \", you are underweight.\")\n",
    "    elif(BMI<=24.9):\n",
    "        print(name + \",you are normal weight.\")\n",
    "    elif(BMI<=29.9):\n",
    "        print(name + \",you are over weight.\")\n",
    "    elif(BMI<=34.9):\n",
    "        print(name + \",you are obese.\")\n",
    "    elif(BMI<=39.9):\n",
    "        print(name + \",you are severely obese.\")\n",
    "    else:\n",
    "        print(name + \"you are morbidly obese\")\n",
    "else:\n",
    "    print(\"Enter valid input\")"
   ]
  }
 ],
 "metadata": {
  "kernelspec": {
   "display_name": "Python 3 (ipykernel)",
   "language": "python",
   "name": "python3"
  },
  "language_info": {
   "codemirror_mode": {
    "name": "ipython",
    "version": 3
   },
   "file_extension": ".py",
   "mimetype": "text/x-python",
   "name": "python",
   "nbconvert_exporter": "python",
   "pygments_lexer": "ipython3",
   "version": "3.12.4"
  }
 },
 "nbformat": 4,
 "nbformat_minor": 5
}
